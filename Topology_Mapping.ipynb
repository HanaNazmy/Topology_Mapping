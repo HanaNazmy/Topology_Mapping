{
  "nbformat": 4,
  "nbformat_minor": 0,
  "metadata": {
    "colab": {
      "name": "Topology_Mapping.ipynb",
      "provenance": [],
      "collapsed_sections": [
        "kuDIwF4ezGOm",
        "ETIdSby1zz3t"
      ]
    },
    "kernelspec": {
      "name": "python3",
      "display_name": "Python 3"
    }
  },
  "cells": [
    {
      "cell_type": "markdown",
      "metadata": {
        "id": "iuB21N832Tp_",
        "colab_type": "text"
      },
      "source": [
        "# **Importing Dataset**"
      ]
    },
    {
      "cell_type": "code",
      "metadata": {
        "id": "fZq237j1UC_g",
        "colab_type": "code",
        "outputId": "d2861702-2839-4424-9af2-70c42acefcae",
        "colab": {
          "base_uri": "https://localhost:8080/",
          "height": 124
        }
      },
      "source": [
        "from google.colab import drive \n",
        "drive.mount('/content/drive')\n",
        "root_path = '/content/drive/My Drive/Dataset/' "
      ],
      "execution_count": 0,
      "outputs": [
        {
          "output_type": "stream",
          "text": [
            "Go to this URL in a browser: https://accounts.google.com/o/oauth2/auth?client_id=947318989803-6bn6qk8qdgf4n4g3pfee6491hc0brc4i.apps.googleusercontent.com&redirect_uri=urn%3aietf%3awg%3aoauth%3a2.0%3aoob&response_type=code&scope=email%20https%3a%2f%2fwww.googleapis.com%2fauth%2fdocs.test%20https%3a%2f%2fwww.googleapis.com%2fauth%2fdrive%20https%3a%2f%2fwww.googleapis.com%2fauth%2fdrive.photos.readonly%20https%3a%2f%2fwww.googleapis.com%2fauth%2fpeopleapi.readonly\n",
            "\n",
            "Enter your authorization code:\n",
            "··········\n",
            "Mounted at /content/drive\n"
          ],
          "name": "stdout"
        }
      ]
    },
    {
      "cell_type": "markdown",
      "metadata": {
        "id": "H3Z7JBxD2QyI",
        "colab_type": "text"
      },
      "source": [
        "# **Main**"
      ]
    },
    {
      "cell_type": "code",
      "metadata": {
        "id": "TIvrKLUa3Ala",
        "colab_type": "code",
        "colab": {}
      },
      "source": [
        "import os\n",
        "import numpy as np\n",
        "import sklearn\n",
        "from sklearn.cluster import KMeans\n",
        "import matplotlib.pyplot as plt\n",
        "from numpy import linalg as LA\n",
        "import networkx as nx\n",
        "import pandas as pd\n",
        "import collections\n",
        "import math \n",
        "from math import log2, exp\n",
        "from scipy.stats import entropy"
      ],
      "execution_count": 0,
      "outputs": []
    },
    {
      "cell_type": "code",
      "metadata": {
        "id": "67Tt8a5O26yM",
        "colab_type": "code",
        "colab": {}
      },
      "source": [
        "k_10_array = [2,4,6,8,10]\n",
        "k_50_array = [2,10,12,15,17,20,25]\n",
        "# Topology size 10\n",
        "A_10, D_10 = create_adj_Matrix(10,root_path)\n",
        "L_10 = D_10 - A_10\n",
        "# Topology size 50\n",
        "A_50, D_50 = create_adj_Matrix(50,root_path)\n",
        "L_50 = D_50 - A_50\n",
        "# Topology size 100\n",
        "A_100, D_100 = create_adj_Matrix(100,root_path)\n",
        "L_100 = D_100 - A_100\n",
        "ground_10, ground_50 = read_ground_truth(root_path)\n"
      ],
      "execution_count": 0,
      "outputs": []
    },
    {
      "cell_type": "markdown",
      "metadata": {
        "id": "qUvm-jVNTuKk",
        "colab_type": "text"
      },
      "source": [
        "**Visualization Before Clustering**\n",
        "\n"
      ]
    },
    {
      "cell_type": "code",
      "metadata": {
        "id": "p3CG1zIPTxQl",
        "colab_type": "code",
        "colab": {}
      },
      "source": [
        "# Topology size 10\n",
        "visualize_before_clustering(10,A_10)\n",
        "\n",
        "# Topology size 50\n",
        "visualize_before_clustering(50,A_50)\n",
        "\n",
        "# Topology size 100\n",
        "visualize_before_clustering(100,A_100)\n"
      ],
      "execution_count": 0,
      "outputs": []
    },
    {
      "cell_type": "markdown",
      "metadata": {
        "id": "KNbsrBwKvv82",
        "colab_type": "text"
      },
      "source": [
        "**Clustering Evaluation**"
      ]
    },
    {
      "cell_type": "code",
      "metadata": {
        "id": "K1tHv2ZZdS0I",
        "colab_type": "code",
        "colab": {}
      },
      "source": [
        "#Topology 10\n",
        "evaluate_spectral_clustering(10,A_10,L_10,D_10,k_10_array,ground_10)"
      ],
      "execution_count": 0,
      "outputs": []
    },
    {
      "cell_type": "code",
      "metadata": {
        "id": "jNLMFrpwve8J",
        "colab_type": "code",
        "colab": {}
      },
      "source": [
        "#Topology 50\n",
        "evaluate_spectral_clustering(50,A_50,L_50,D_50,k_50_array,ground_50)"
      ],
      "execution_count": 0,
      "outputs": []
    },
    {
      "cell_type": "code",
      "metadata": {
        "id": "15LlbV5PvfNn",
        "colab_type": "code",
        "colab": {}
      },
      "source": [
        "#Topology 100\n",
        "evaluate_spectral_clustering(100,A_100,L_100,D_100,k_50_array,None)"
      ],
      "execution_count": 0,
      "outputs": []
    },
    {
      "cell_type": "markdown",
      "metadata": {
        "id": "kuDIwF4ezGOm",
        "colab_type": "text"
      },
      "source": [
        "# **Creating Adjacency matrix and Degree matrix**"
      ]
    },
    {
      "cell_type": "code",
      "metadata": {
        "id": "fRSaxjBkfvNj",
        "colab_type": "code",
        "colab": {}
      },
      "source": [
        "def create_adj_Matrix(num,path):\n",
        "  Total = np.zeros((num*10,num))\n",
        "  degree = np.zeros((num*10,num))\n",
        "  for i in range(0,10):\n",
        "    file1 = open(path+'t_'+str(num)+'_'+str(i)+'.txt', 'r') \n",
        "    Lines = file1.readlines() \n",
        "    # if i != 0:\n",
        "    #     temp = np.zeros((num,num))\n",
        "    for line in Lines: \n",
        "        l = line.strip()\n",
        "        data = l.split() #split string into a list\n",
        "        node_1 = int(data[0])-1\n",
        "        node_2 = int(data[1])-1\n",
        "        edge = int(data[2])\n",
        "        Total[node_1+(i*num)][node_2] += edge\n",
        "        Total[node_2+(i*num)][node_1] += edge\n",
        "        degree[node_1+(i*num)][node_1] += edge\n",
        "        degree[node_2+(i*num)][node_2] += edge\n",
        "  return Total, degree"
      ],
      "execution_count": 0,
      "outputs": []
    },
    {
      "cell_type": "markdown",
      "metadata": {
        "id": "ETIdSby1zz3t",
        "colab_type": "text"
      },
      "source": [
        "# **Reading the ground truth**"
      ]
    },
    {
      "cell_type": "code",
      "metadata": {
        "id": "Ub-U4uievlyp",
        "colab_type": "code",
        "colab": {}
      },
      "source": [
        "def read_ground_truth(path):\n",
        "  file1 = open(path+'ground_truth.txt','r') \n",
        "  Lines = file1.readlines()\n",
        "  ground_truth_10 = []\n",
        "  ground_truth_50 = []\n",
        "  for i in range(10): \n",
        "      line = Lines[i]\n",
        "      l = line.strip()\n",
        "      data = l.split() \n",
        "      for j in range(0, len(data)): \n",
        "          data[j] = int(data[j])\n",
        "      ground_truth_10.append(data)\n",
        "  # print(ground_truth_10)\n",
        "  for i in range(10,20): \n",
        "      line = Lines[i]\n",
        "      l = line.strip()\n",
        "      data = l.split() \n",
        "      for j in range(0, len(data)): \n",
        "          data[j] = int(data[j])\n",
        "      ground_truth_50.append(data)\n",
        "  return ground_truth_10,ground_truth_50\n"
      ],
      "execution_count": 0,
      "outputs": []
    },
    {
      "cell_type": "markdown",
      "metadata": {
        "id": "yAQllCXw0k1h",
        "colab_type": "text"
      },
      "source": [
        "# **Evaluation**"
      ]
    },
    {
      "cell_type": "code",
      "metadata": {
        "id": "ZQVvPPa0i7hZ",
        "colab_type": "code",
        "colab": {}
      },
      "source": [
        "def evaluate_spectral_clustering(num,A,L,D,k_array,ground):\n",
        "  best_k = np.zeros(num)\n",
        "  maximum = np.zeros(num)\n",
        "  k_dict= {}\n",
        "  Eigenvectors, Eigenvalues = get_eigen(L,D,num)\n",
        "  for k in k_array:\n",
        "      classes = prepare_vectors(Eigenvectors, Eigenvalues,num,k)\n",
        "      k_dict[k] = classes\n",
        "      for j in range(10):\n",
        "          clusters_dict = create_class_nodes(classes[j,:])\n",
        "          if num == 100:\n",
        "            norm_cut = get_normalized_cut(A,classes[j])\n",
        "            if norm_cut > maximum[j]:\n",
        "              maximum[j]=norm_cut\n",
        "              best_k[j]=k\n",
        "            print('normalized cut = ', norm_cut)\n",
        "          else:\n",
        "            entropy = calculate_conditional_entropy(clusters_dict,k,ground[j])\n",
        "            f_measure = calculate_total_f_measure(clusters_dict, ground[j] )\n",
        "            if f_measure > maximum[j]:\n",
        "              maximum[j]=f_measure\n",
        "              best_k[j]=k\n",
        "            print('F-measure for topology ',j,'with k = ',k,'is',f_measure)\n",
        "            print('Entropy for topology = ',j,'with k = ',k,'is',entropy)\n",
        "\n",
        "  # for i in range (10):\n",
        "  #   print(\"Best value for K for topology \",i,\" is: \",best_k[i])\n",
        "  \n",
        "  visualize(num,best_k,A,k_dict)\n"
      ],
      "execution_count": 0,
      "outputs": []
    },
    {
      "cell_type": "markdown",
      "metadata": {
        "id": "7rnpmMi40pFz",
        "colab_type": "text"
      },
      "source": [
        "# **Get Eigen Vectors and Values**"
      ]
    },
    {
      "cell_type": "code",
      "metadata": {
        "id": "q592iSm5Z7-H",
        "colab_type": "code",
        "colab": {}
      },
      "source": [
        "def get_sorted_eigen(matrix,num):\n",
        "  eVals , eVecs  = np.linalg.eigh(matrix)\n",
        "  idx = np.argsort(np.abs(eVals))\n",
        "  sorted_evecs = eVecs[:,idx]\n",
        "  sorted_evals = eVals[idx]\n",
        "  return sorted_evecs, sorted_evals"
      ],
      "execution_count": 0,
      "outputs": []
    },
    {
      "cell_type": "code",
      "metadata": {
        "id": "D9g0R_51QPqQ",
        "colab_type": "code",
        "colab": {}
      },
      "source": [
        "def get_eigen(L,D, num):\n",
        "  Eigen_vectors = np.zeros((num*10,num))\n",
        "  Eigen_values = np.zeros((10,num))\n",
        "  for i in range(0,10):\n",
        "      L_small = L[i*num : (i*num)+num,:]\n",
        "      D_inv = np.linalg.pinv(D[i*num : (i*num)+num,:])\n",
        "      temp = np.dot(D_inv,L_small)\n",
        "      eig_vecs , eig_vals = get_sorted_eigen(temp,num)\n",
        "      Eigen_vectors[i*num : (i*num)+num,:] = eig_vecs \n",
        "      Eigen_values[i, :] = eig_vals\n",
        "  return Eigen_vectors, Eigen_values"
      ],
      "execution_count": 0,
      "outputs": []
    },
    {
      "cell_type": "code",
      "metadata": {
        "id": "1fb5LGeY0NRG",
        "colab_type": "code",
        "colab": {}
      },
      "source": [
        "def prepare_vectors(eigen_vectors, eigen_values,num,k):\n",
        "  classes = np.zeros((num,num))\n",
        "  for i in range(0,10):\n",
        "      edited_eigen_vectors = cut_eigen(eigen_vectors[i*num : (i*num)+num,:],eigen_values[i,:],num,k)\n",
        "      # print('eigen',edited_eigen_vectors.shape)\n",
        "      classes[i,:]=spectral_clustering(k,edited_eigen_vectors)\n",
        "  return classes"
      ],
      "execution_count": 0,
      "outputs": []
    },
    {
      "cell_type": "markdown",
      "metadata": {
        "id": "aY8KWU861UYy",
        "colab_type": "text"
      },
      "source": [
        "# **Cutting the Eigen Vector**"
      ]
    },
    {
      "cell_type": "code",
      "metadata": {
        "id": "zUm3DnpGorpU",
        "colab_type": "code",
        "colab": {}
      },
      "source": [
        "def cut_eigen(eigen_vectors,eigen_values,num,k):\n",
        "  # if num == k:\n",
        "  #   break\n",
        "  one_array = np.ones((num,1))\n",
        "  indices = []\n",
        "  count = 0\n",
        "  edited_eig_vecs = np.zeros((num,k))\n",
        "  for i in range(0,num):\n",
        "    if eigen_values[i] == 0:\n",
        "        comparison = eigen_vectors[:,i] == one_array\n",
        "        equal_arrays = comparison.all()\n",
        "        if equal_arrays == True:\n",
        "          continue\n",
        "    edited_eig_vecs[:,count] = eigen_vectors[:,i] \n",
        "    count +=1\n",
        "    if count == k:\n",
        "      break\n",
        "  return edited_eig_vecs"
      ],
      "execution_count": 0,
      "outputs": []
    },
    {
      "cell_type": "markdown",
      "metadata": {
        "id": "CmwPDCfG1Zdk",
        "colab_type": "text"
      },
      "source": [
        "# **Getting Nodes of one Class**"
      ]
    },
    {
      "cell_type": "code",
      "metadata": {
        "id": "qSQa_xn4pIk2",
        "colab_type": "code",
        "colab": {}
      },
      "source": [
        "# for one topology\n",
        "def create_class_nodes(class_labels):\n",
        "  dict = {}\n",
        "  for number in class_labels:\n",
        "    dict[number] = []\n",
        "  for i in range(len(class_labels)):\n",
        "    dict[ class_labels[i]].append( i)\n",
        "  return dict"
      ],
      "execution_count": 0,
      "outputs": []
    },
    {
      "cell_type": "markdown",
      "metadata": {
        "id": "ICWSkAN-1h0u",
        "colab_type": "text"
      },
      "source": [
        "# **Spectral Clustering and Kmeans**"
      ]
    },
    {
      "cell_type": "code",
      "metadata": {
        "id": "dp2q3zqKmW7A",
        "colab_type": "code",
        "colab": {}
      },
      "source": [
        "def spectral_clustering(k,edited_eigen_vectors):\n",
        "  # normalized = LA.norm(edited_eigen_vectors,ord=1, axis=1, keepdims = True)\n",
        "  normalized = edited_eigen_vectors\n",
        "  kmeans = KMeans(n_clusters=k).fit(normalized)\n",
        "  centers = kmeans.cluster_centers_\n",
        "  clusters = kmeans.labels_\n",
        "  return clusters"
      ],
      "execution_count": 0,
      "outputs": []
    },
    {
      "cell_type": "markdown",
      "metadata": {
        "id": "mJ_KUwOi1nqA",
        "colab_type": "text"
      },
      "source": [
        "# **Internal Measures - Normalized Cut**"
      ]
    },
    {
      "cell_type": "code",
      "metadata": {
        "id": "PyzBOkoWRKbV",
        "colab_type": "code",
        "colab": {}
      },
      "source": [
        "def get_normalized_cut(A,cluster_labels):\n",
        "    diction = create_class_nodes(cluster_labels)\n",
        "    norm_cut = 0\n",
        "    for i in range(len(diction)):\n",
        "        w_in = get_internal_weights(A, diction[i])\n",
        "        print('Internal Traffic of partition',i,'is',w_in,' Mbps')\n",
        "        # if i == 0:\n",
        "        # print('diction', diction[0])\n",
        "        w_out = get_external_weights(A, diction[i])\n",
        "        print('Emulated Traffic of partition',i,'is',w_out,' Mbps')\n",
        "        # print('Internal ',w_in,' External', w_out)\n",
        "        norm_cut += (w_out / (w_in+w_out))\n",
        "    return norm_cut"
      ],
      "execution_count": 0,
      "outputs": []
    },
    {
      "cell_type": "code",
      "metadata": {
        "id": "SGSpL0VuOL44",
        "colab_type": "code",
        "colab": {}
      },
      "source": [
        "def get_internal_weights(A,cluster_nodes):\n",
        "  weight = 0\n",
        "  for i in cluster_nodes:\n",
        "    for j in cluster_nodes:\n",
        "        weight+= exp((-0.01)*A[i][j])\n",
        "  weight = weight /2\n",
        "  return weight "
      ],
      "execution_count": 0,
      "outputs": []
    },
    {
      "cell_type": "code",
      "metadata": {
        "id": "TCDFeWL-QE8h",
        "colab_type": "code",
        "colab": {}
      },
      "source": [
        "def get_external_weights(A,cluster_nodes):\n",
        "    weight = 0\n",
        "    for i in cluster_nodes:\n",
        "      for j in range(0,100):\n",
        "        if j in cluster_nodes:\n",
        "          continue\n",
        "        weight+= exp(-0.01*A[i][j])\n",
        "    if weight == 0:\n",
        "        weight = 1\n",
        "    weight = weight /2\n",
        "    return weight "
      ],
      "execution_count": 0,
      "outputs": []
    },
    {
      "cell_type": "markdown",
      "metadata": {
        "id": "I5uua61t1tAo",
        "colab_type": "text"
      },
      "source": [
        "# **External Measures - F-measure**"
      ]
    },
    {
      "cell_type": "code",
      "metadata": {
        "id": "PnLbeXwLVun3",
        "colab_type": "code",
        "colab": {}
      },
      "source": [
        "#assume cluster nodes are the indecies of the nodes in this current cluster\n",
        "def calculate_f_measure( cluster_nodes, ground_truth ):\n",
        "  gt_map = np.zeros((1, len(ground_truth)))\n",
        "  for node in cluster_nodes:\n",
        "    index = ground_truth[node]\n",
        "    gt_map[0][index] = gt_map[0][ index ]+1\n",
        "  max_value = np.argmax( gt_map)\n",
        "  max_total = collections.Counter(ground_truth)[ max_value ]\n",
        "  recall  = gt_map[0][max_value]/max_total\n",
        "  prec = gt_map[0][max_value]/len(cluster_nodes)\n",
        "  f_measure = (2*recall*prec)/(recall+prec)\n",
        "  return f_measure"
      ],
      "execution_count": 0,
      "outputs": []
    },
    {
      "cell_type": "code",
      "metadata": {
        "id": "ch10CGGItVXN",
        "colab_type": "code",
        "colab": {}
      },
      "source": [
        "def calculate_total_f_measure(cluster_dict, ground_truth):\n",
        "  f_measure = 0\n",
        "  length = len(cluster_dict)\n",
        "  for j in range(length):\n",
        "    f_measure += (calculate_f_measure(cluster_dict[j],ground_truth))/length\n",
        "  return f_measure\n"
      ],
      "execution_count": 0,
      "outputs": []
    },
    {
      "cell_type": "markdown",
      "metadata": {
        "id": "7grMCfzi2Bax",
        "colab_type": "text"
      },
      "source": [
        "# **External Measures - Conditional Entropy**"
      ]
    },
    {
      "cell_type": "code",
      "metadata": {
        "id": "frtjTNGzdSh9",
        "colab_type": "code",
        "colab": {}
      },
      "source": [
        "# for one cluster\n",
        "def calculate_cluster_entropy( cluster_nodes, ground_truth ):\n",
        "  gt_map = np.zeros((1, len(ground_truth)))\n",
        "  cluster_entropy = 0\n",
        "  # loop on each node in cluster\n",
        "  for i_node in cluster_nodes:\n",
        "    # get its true index in ground truth\n",
        "    true_index = ground_truth[i_node]\n",
        "    # add 1 to its true label\n",
        "    gt_map[0][true_index] += 1\n",
        "  # gt map holds for cluster for each class how many\n",
        "  for j in range(0,len(gt_map[0])):\n",
        "    nj = gt_map[0][j]\n",
        "    if nj ==0:\n",
        "      continue\n",
        "    ratio = nj / (len(cluster_nodes))\n",
        "    # print(\"Ratio is equal \", ratio)\n",
        "    cluster_entropy += (-1*ratio*log2(ratio))\n",
        "      # print(\"Entropy is equal \", cluster_entropy)\n",
        "  return len(cluster_nodes),cluster_entropy "
      ],
      "execution_count": 0,
      "outputs": []
    },
    {
      "cell_type": "code",
      "metadata": {
        "id": "zrykLjrKpP2R",
        "colab_type": "code",
        "colab": {}
      },
      "source": [
        "def calculate_conditional_entropy(clusters_dict,k,ground_truth):\n",
        "  conditional_entropy=0\n",
        "  for i in range(k):\n",
        "    len_cluster,cluster_entropy = calculate_cluster_entropy(clusters_dict[i],ground_truth)\n",
        "    if cluster_entropy == 0:\n",
        "        continue\n",
        "    ratio = len_cluster/len(ground_truth)\n",
        "    conditional_entropy += (ratio*cluster_entropy)\n",
        "  return conditional_entropy"
      ],
      "execution_count": 0,
      "outputs": []
    },
    {
      "cell_type": "markdown",
      "metadata": {
        "id": "5dwsXfqB2GVL",
        "colab_type": "text"
      },
      "source": [
        "# **Visualization**"
      ]
    },
    {
      "cell_type": "code",
      "metadata": {
        "id": "0DKalTw-W1qb",
        "colab_type": "code",
        "colab": {}
      },
      "source": [
        "def visualize_before_clustering(num,A):\n",
        "  for i in range(10):\n",
        "    print(\"Topology number \",i,\" of size \",num)\n",
        "    visualize_topology(i,num,A,np.zeros(num))"
      ],
      "execution_count": 0,
      "outputs": []
    },
    {
      "cell_type": "code",
      "metadata": {
        "id": "AdAs-tVRmZ_I",
        "colab_type": "code",
        "colab": {}
      },
      "source": [
        "def visualize(num,best_k,A,k_dict):\n",
        "  # takes the best k and visualize   \n",
        "  for i in range(0,10):\n",
        "    k_index = best_k[i]\n",
        "    print(\"Topology \",i,\" with K= \",k_index)\n",
        "    visualize_topology(i,num,A,k_dict[k_index][i])"
      ],
      "execution_count": 0,
      "outputs": []
    },
    {
      "cell_type": "code",
      "metadata": {
        "id": "7p_Yg55YvgF3",
        "colab_type": "code",
        "colab": {}
      },
      "source": [
        "def visualize_topology(i,num,m_total,classes):\n",
        "  mat = m_total[i*num : (i*num)+num,:]\n",
        "  G = nx.from_numpy_matrix(np.matrix(mat))\n",
        "  pos = nx.circular_layout(G,scale=1)\n",
        "  # pos = nx.spring_layout(G,scale=1)\n",
        "  # pos = nx.drawing.nx_pydot.graphviz_layout(G)\n",
        "  # Carac is a df helps to make each class has a common color\n",
        "  carac = pd.DataFrame({ 'ID':G.nodes(), 'myvalue':classes })\n",
        "  edge_labels = nx.get_edge_attributes(G, \"weight\")\n",
        "\n",
        "  carac= carac.set_index('ID')\n",
        "  # carac=carac.reindex(G.nodes())\n",
        "  carac['myvalue']=pd.Categorical(carac['myvalue'])\n",
        "  carac['myvalue'].cat.codes\n",
        "  if num == 10:\n",
        "      fig= plt.figure(figsize=(7,7))\n",
        "  else:\n",
        "      fig= plt.figure(figsize=(10,10))\n",
        "  nx.draw(G,pos,edge_color='black',node_color=carac['myvalue'].cat.codes,node_size=1500, linewidths=1, font_size=15 , width=5.0, alpha=0.9,\n",
        "          labels={node:node for node in G.nodes()})\n",
        "  # Add weights to edges\n",
        "  nx.draw_networkx_edge_labels(G,pos,edge_labels=edge_labels,font_color='red')\n",
        "  plt.show()\n",
        "  return G"
      ],
      "execution_count": 0,
      "outputs": []
    }
  ]
}